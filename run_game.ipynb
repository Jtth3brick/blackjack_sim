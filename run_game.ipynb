{
 "cells": [
  {
   "cell_type": "code",
   "execution_count": 1,
   "metadata": {},
   "outputs": [],
   "source": [
    "from game import Game\n",
    "from hand import Hand\n",
    "from player import BasicPlayer\n",
    "from dealer import Dealer\n",
    "from shoe import Shoe\n",
    "import random"
   ]
  },
  {
   "cell_type": "code",
   "execution_count": 2,
   "metadata": {},
   "outputs": [],
   "source": [
    "game = Game(Dealer, BasicPlayer, Shoe())"
   ]
  },
  {
   "cell_type": "code",
   "execution_count": 4,
   "metadata": {},
   "outputs": [
    {
     "ename": "ValueError",
     "evalue": "The shoe is out of cards; it must be shuffled before dealing.",
     "output_type": "error",
     "traceback": [
      "\u001b[0;31m---------------------------------------------------------------------------\u001b[0m",
      "\u001b[0;31mValueError\u001b[0m                                Traceback (most recent call last)",
      "\u001b[1;32m/Users/jeshgus/repo/blackjack_sim/run_game.ipynb Cell 3\u001b[0m line \u001b[0;36m3\n\u001b[1;32m      <a href='vscode-notebook-cell:/Users/jeshgus/repo/blackjack_sim/run_game.ipynb#W2sZmlsZQ%3D%3D?line=0'>1</a>\u001b[0m random\u001b[39m.\u001b[39mseed(\u001b[39m10\u001b[39m)\n\u001b[1;32m      <a href='vscode-notebook-cell:/Users/jeshgus/repo/blackjack_sim/run_game.ipynb#W2sZmlsZQ%3D%3D?line=1'>2</a>\u001b[0m \u001b[39mfor\u001b[39;00m _ \u001b[39min\u001b[39;00m \u001b[39mrange\u001b[39m(\u001b[39m5\u001b[39m):\n\u001b[0;32m----> <a href='vscode-notebook-cell:/Users/jeshgus/repo/blackjack_sim/run_game.ipynb#W2sZmlsZQ%3D%3D?line=2'>3</a>\u001b[0m     \u001b[39mprint\u001b[39m(game\u001b[39m.\u001b[39mplay_game(num_games\u001b[39m=\u001b[39m\u001b[39m10\u001b[39m))\n",
      "File \u001b[0;32m~/repo/blackjack_sim/game.py:86\u001b[0m, in \u001b[0;36mGame.play_game\u001b[0;34m(self, num_games)\u001b[0m\n\u001b[1;32m     84\u001b[0m     \u001b[39mif\u001b[39;00m shuffled:\n\u001b[1;32m     85\u001b[0m         \u001b[39mself\u001b[39m\u001b[39m.\u001b[39mplayer\u001b[39m.\u001b[39mnew_shoe()\n\u001b[0;32m---> 86\u001b[0m     \u001b[39mself\u001b[39m\u001b[39m.\u001b[39mplay_round()\n\u001b[1;32m     87\u001b[0m \u001b[39melse\u001b[39;00m:\n\u001b[1;32m     88\u001b[0m     \u001b[39mreturn\u001b[39;00m \u001b[39mself\u001b[39m\u001b[39m.\u001b[39mplayer_balance()\n",
      "File \u001b[0;32m~/repo/blackjack_sim/game.py:19\u001b[0m, in \u001b[0;36mGame.play_round\u001b[0;34m(self)\u001b[0m\n\u001b[1;32m     14\u001b[0m \u001b[39m\u001b[39m\u001b[39m\"\"\"\u001b[39;00m\n\u001b[1;32m     15\u001b[0m \u001b[39mPlays a round of Blackjack.\u001b[39;00m\n\u001b[1;32m     16\u001b[0m \u001b[39m\"\"\"\u001b[39;00m\n\u001b[1;32m     18\u001b[0m \u001b[39m# initialize new dealer\u001b[39;00m\n\u001b[0;32m---> 19\u001b[0m dealer \u001b[39m=\u001b[39m \u001b[39mself\u001b[39m\u001b[39m.\u001b[39mdealer_class(\u001b[39mself\u001b[39m\u001b[39m.\u001b[39mshoe\u001b[39m.\u001b[39mdeal(), \u001b[39mself\u001b[39m\u001b[39m.\u001b[39mshoe\u001b[39m.\u001b[39mdeal())\n\u001b[1;32m     20\u001b[0m dealer_upcard \u001b[39m=\u001b[39m dealer\u001b[39m.\u001b[39mget_upcard()\n\u001b[1;32m     22\u001b[0m \u001b[39m# start player new round and give hand + dealer upcard\u001b[39;00m\n",
      "File \u001b[0;32m~/repo/blackjack_sim/shoe.py:31\u001b[0m, in \u001b[0;36mShoe.deal\u001b[0;34m(self)\u001b[0m\n\u001b[1;32m     29\u001b[0m \u001b[39m\u001b[39m\u001b[39m\"\"\"Deal one card from the shoe.\"\"\"\u001b[39;00m\n\u001b[1;32m     30\u001b[0m \u001b[39mif\u001b[39;00m \u001b[39mlen\u001b[39m(\u001b[39mself\u001b[39m\u001b[39m.\u001b[39mcards) \u001b[39m==\u001b[39m \u001b[39m0\u001b[39m:\n\u001b[0;32m---> 31\u001b[0m     \u001b[39mraise\u001b[39;00m \u001b[39mValueError\u001b[39;00m(\u001b[39m\"\u001b[39m\u001b[39mThe shoe is out of cards; it must be shuffled before dealing.\u001b[39m\u001b[39m\"\u001b[39m)\n\u001b[1;32m     32\u001b[0m \u001b[39mreturn\u001b[39;00m \u001b[39mself\u001b[39m\u001b[39m.\u001b[39mcards\u001b[39m.\u001b[39mpop(\u001b[39m0\u001b[39m)\n",
      "\u001b[0;31mValueError\u001b[0m: The shoe is out of cards; it must be shuffled before dealing."
     ]
    }
   ],
   "source": [
    "random.seed(10)\n",
    "for _ in range(5):\n",
    "    print(game.play_game(num_games=10))"
   ]
  },
  {
   "cell_type": "code",
   "execution_count": null,
   "metadata": {},
   "outputs": [],
   "source": []
  }
 ],
 "metadata": {
  "kernelspec": {
   "display_name": "base",
   "language": "python",
   "name": "python3"
  },
  "language_info": {
   "codemirror_mode": {
    "name": "ipython",
    "version": 3
   },
   "file_extension": ".py",
   "mimetype": "text/x-python",
   "name": "python",
   "nbconvert_exporter": "python",
   "pygments_lexer": "ipython3",
   "version": "3.11.5"
  }
 },
 "nbformat": 4,
 "nbformat_minor": 2
}
